!pip install pandas openpyxl numpy nbformat plotly ipykernel ipython
#PASSO 1
import pandas
tabela= pandas.read_csv('cancelamentos.csv')
#display(tabela) -> tabela organizada
tabela = tabela.drop(columns='CustomerID') #informaçao inutil
display(tabela.info()) #mostra informaçoes erradas e vazias
tabela= tabela.dropna() #informaçao vazia
display(tabela.info())
print(tabela['cancelou'].value_counts())
print(tabela['cancelou'].value_counts(normalize=True))
print(tabela['cancelou'].value_counts(normalize=True).map('{:.1%}'.format))
import plotly.express as px

for coluna in tabela.columns:
    #criar um grafico
    grafico= px.histogram(tabela, x=coluna, color='cancelou', text_auto=True)
    #exibir grafico
    grafico.show()
    tabela= tabela[tabela['ligacoes_callcenter']<=5]
tabela= tabela[tabela['dias_atraso']<=21]
tabela= tabela[tabela['duracao_contrato']!='Monthly']
print(tabela['cancelou'].value_counts(normalize=True))
# resolvendo esse problemas os cancelamentos foram de 56% para 22%
